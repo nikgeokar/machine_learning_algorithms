{
 "cells": [
  {
   "cell_type": "markdown",
   "id": "fd58aff4",
   "metadata": {},
   "source": [
    "# KNN Algorithm"
   ]
  },
  {
   "cell_type": "code",
   "execution_count": 1,
   "id": "eb349a64",
   "metadata": {},
   "outputs": [],
   "source": [
    "import pandas as pd\n",
    "import numpy as np\n",
    "from sklearn import preprocessing\n",
    "from sklearn.model_selection import train_test_split\n",
    "from sklearn.impute import KNNImputer\n",
    "from sklearn.neighbors import KNeighborsClassifier\n",
    "from sklearn import metrics\n",
    "import matplotlib.pyplot as plt"
   ]
  },
  {
   "cell_type": "markdown",
   "id": "3bab5286",
   "metadata": {},
   "source": [
    "## Data Preprocess"
   ]
  },
  {
   "cell_type": "markdown",
   "id": "54ca9f5f",
   "metadata": {},
   "source": [
    "Step 1: Split X and y"
   ]
  },
  {
   "cell_type": "code",
   "execution_count": 2,
   "id": "31b1b1b7",
   "metadata": {},
   "outputs": [],
   "source": [
    "def splits_X_y(df):\n",
    "    X = df[df.columns[1:]]\n",
    "    y = df[df.columns[:1]]\n",
    "    return X, y"
   ]
  },
  {
   "cell_type": "markdown",
   "id": "103f7d56",
   "metadata": {},
   "source": [
    "Step 2: Split Test and Train"
   ]
  },
  {
   "cell_type": "code",
   "execution_count": 3,
   "id": "196cfa6b",
   "metadata": {},
   "outputs": [],
   "source": [
    "def split_Test_Train(df):\n",
    "    X, y = splits_X_y(df)\n",
    "    return train_test_split(X, y, test_size=0.25, random_state=42)"
   ]
  },
  {
   "cell_type": "markdown",
   "id": "70764e17",
   "metadata": {},
   "source": [
    "Step 3: Apply scalling with MinMaxscaller"
   ]
  },
  {
   "cell_type": "code",
   "execution_count": 4,
   "id": "cb294f4c",
   "metadata": {},
   "outputs": [],
   "source": [
    "def Scaller(Train,Test):\n",
    "    MinMaxScaler = preprocessing.MinMaxScaler()\n",
    "    Scalled_Train_data = MinMaxScaler.fit_transform(Train)\n",
    "    Scalled_val_data = MinMaxScaler.transform(Test)\n",
    "    return Scalled_Train_data,Scalled_val_data"
   ]
  },
  {
   "cell_type": "markdown",
   "id": "184af4b2",
   "metadata": {},
   "source": [
    "Step 4: Fill missing values"
   ]
  },
  {
   "cell_type": "code",
   "execution_count": 5,
   "id": "828fe036",
   "metadata": {},
   "outputs": [],
   "source": [
    "def missing_values_handler(X_train,X_test):\n",
    "    imputer = KNNImputer(missing_values=np.nan,n_neighbors=3)\n",
    "    X_train = imputer.fit_transform(X_train)\n",
    "    X_test = imputer.transform(X_test)\n",
    "    return X_train,X_test"
   ]
  },
  {
   "cell_type": "markdown",
   "id": "6cf47e12",
   "metadata": {},
   "source": [
    "Step 5: Merge above functions"
   ]
  },
  {
   "cell_type": "code",
   "execution_count": 6,
   "id": "fe43d774",
   "metadata": {},
   "outputs": [],
   "source": [
    "def data_preprocess(df,columns,handle_missing_values):\n",
    "    df=titanic[columns]\n",
    "    X_train,X_test,y_train,y_test =  split_Test_Train(df)\n",
    "    X_train,X_test = Scaller(X_train,X_test)\n",
    "    \n",
    "    if handle_missing_values:\n",
    "        X_train,X_test=missing_values_handler(X_train,X_test)\n",
    "        \n",
    "    return X_train,X_test,y_train,y_test"
   ]
  },
  {
   "cell_type": "markdown",
   "id": "3b7fdd0b",
   "metadata": {},
   "source": [
    "## Model Evaluation"
   ]
  },
  {
   "cell_type": "markdown",
   "id": "bb32be72",
   "metadata": {},
   "source": [
    "Step 1: Make the neccesary experiments and save the results in a dictionary"
   ]
  },
  {
   "cell_type": "code",
   "execution_count": 7,
   "id": "eb543809",
   "metadata": {},
   "outputs": [],
   "source": [
    "def evaluate(X_train,X_test,y_train,y_test,weights,p_ls,dict_keys):\n",
    "    dict_list = []\n",
    "    for p in p_ls:\n",
    "        for weight in weights:\n",
    "            accuracy_score = []\n",
    "            recall_score = []\n",
    "            precision_score = []\n",
    "            f1_score = []\n",
    "            for n_neighbors in range (1,201):\n",
    "                model=KNeighborsClassifier(n_neighbors=n_neighbors, weights=weight, p=p, metric='minkowski', n_jobs=-1)\n",
    "                model.fit(X_train, y_train.values.ravel())\n",
    "                y_predicted = model.predict(X_test)\n",
    "                accuracy_score.append(metrics.accuracy_score(y_test, y_predicted))\n",
    "                recall_score.append(metrics.recall_score(y_test, y_predicted))\n",
    "                precision_score.append(metrics.precision_score(y_test, y_predicted))\n",
    "                f1_score.append(metrics.f1_score(y_test, y_predicted))\n",
    "            \n",
    "            # f takes create a dict setting as key the name (string) of the variable while\n",
    "            # setting as values the values of the varible.\n",
    "            f = lambda s: f\"dict({ ','.join( f'{k}={k}' for k in s.split(',') ) })\"\n",
    "            metrics_dict = eval(f(dict_keys))\n",
    "            dict_list.append(metrics_dict)\n",
    "    return dict_list"
   ]
  },
  {
   "cell_type": "markdown",
   "id": "a29d22a1",
   "metadata": {},
   "source": [
    "Step 2: Use the dictionary with the metrics resulsts in order to find the best value of n_estimatorts hyperparameter according the F1 score."
   ]
  },
  {
   "cell_type": "code",
   "execution_count": 8,
   "id": "ba320789",
   "metadata": {},
   "outputs": [],
   "source": [
    "def get_best_neighbor(metrics_dict):\n",
    "    for i in range (0,len(metrics_dict)):\n",
    "        min_f1 = max(metrics_dict[i]['f1_score'])\n",
    "        min_index = metrics_dict[i]['f1_score'].index(min_f1)\n",
    "        accuracy_score = metrics_dict[i]['accuracy_score'][min_index]\n",
    "        recall_score = metrics_dict[i]['recall_score'][min_index]\n",
    "        precision_score = metrics_dict[i]['precision_score'][min_index]\n",
    "        f1_score = metrics_dict[i]['f1_score'][min_index]\n",
    "        p = metrics_dict[i]['p']\n",
    "        weight = metrics_dict[i]['weight']\n",
    "        print ('\\n Experiment : ',i+1)\n",
    "        print ('\\n weihts = ', weight, \n",
    "               '\\n p =', p, \n",
    "               '\\n n_neighbors =', min_index+1,\n",
    "               '\\n accuracy_score = ',  accuracy_score, \n",
    "               '\\n recall_score = ', recall_score, \n",
    "               '\\n precision_score = ', precision_score, \n",
    "               '\\n f1_score = ', f1_score)"
   ]
  },
  {
   "cell_type": "markdown",
   "id": "df954a56",
   "metadata": {},
   "source": [
    "Step 3: Train a model and evaluate with the test set using F1-Score."
   ]
  },
  {
   "cell_type": "code",
   "execution_count": 9,
   "id": "eb01617e",
   "metadata": {},
   "outputs": [],
   "source": [
    "def evaluate_missing_values_handler(X_train,X_test,y_train,y_test):\n",
    "    f1_score = []\n",
    "    for n_neighbors in range (1,201):\n",
    "        model=KNeighborsClassifier(n_neighbors=n_neighbors, weights='uniform', p=1, metric='minkowski', n_jobs=-1)\n",
    "        model.fit(X_train, y_train.values.ravel())\n",
    "        y_predicted = model.predict(X_test)\n",
    "        f1_score.append(metrics.f1_score(y_test, y_predicted))\n",
    "    return f1_score "
   ]
  },
  {
   "cell_type": "markdown",
   "id": "3d6f4023",
   "metadata": {},
   "source": [
    "Step 4: Plot 2 lists that describe the change of F1-Score"
   ]
  },
  {
   "cell_type": "code",
   "execution_count": 10,
   "id": "0bc977bc",
   "metadata": {},
   "outputs": [],
   "source": [
    "def get_plot(f1_handler,f1_no_handler):\n",
    "    plt.plot(range(1, len(f1_handler) + 1), f1_handler,label='F1-Score with KNNImputer')\n",
    "    plt.plot(range(1, len(f1_no_handler) + 1), f1_no_handler,label='F1-Score without KNNImputer')\n",
    "    plt.title('KNNImputer influence on F1-Score')\n",
    "    plt.xlabel('Number of Neighbors')\n",
    "    plt.ylabel('F1')\n",
    "    plt.legend()\n",
    "    plt.savefig('F1_plot.pdf')\n",
    "    plt.show()"
   ]
  },
  {
   "cell_type": "markdown",
   "id": "9fbff313",
   "metadata": {},
   "source": [
    "## Define necessary variables"
   ]
  },
  {
   "cell_type": "code",
   "execution_count": 11,
   "id": "4197c0c9",
   "metadata": {},
   "outputs": [],
   "source": [
    "exlude_missing_values = ['Survived', 'Pclass', 'SibSp', 'Parch', 'Fare']\n",
    "used_colums =['Survived', 'Pclass','Age', 'SibSp', 'Parch', 'Fare']\n",
    "weights=['uniform','distance']\n",
    "p_ls=[1,2,3]\n",
    "dict_keys='weight,p,accuracy_score,recall_score,precision_score,f1_score'\n",
    "\n",
    "titanic = pd.read_csv('titanic.csv',low_memory=False,sep=',')"
   ]
  },
  {
   "cell_type": "markdown",
   "id": "345ba140",
   "metadata": {},
   "source": [
    "## Evaluate using possible hyper-parameters"
   ]
  },
  {
   "cell_type": "code",
   "execution_count": 12,
   "id": "568d1795",
   "metadata": {},
   "outputs": [
    {
     "name": "stdout",
     "output_type": "stream",
     "text": [
      "\n",
      " Experiment :  1\n",
      "\n",
      " weihts =  uniform \n",
      " p = 1 \n",
      " n_neighbors = 75 \n",
      " accuracy_score =  0.7668161434977578 \n",
      " recall_score =  0.550561797752809 \n",
      " precision_score =  0.8032786885245902 \n",
      " f1_score =  0.6533333333333333\n",
      "\n",
      " Experiment :  2\n",
      "\n",
      " weihts =  distance \n",
      " p = 1 \n",
      " n_neighbors = 127 \n",
      " accuracy_score =  0.7130044843049327 \n",
      " recall_score =  0.5842696629213483 \n",
      " precision_score =  0.6582278481012658 \n",
      " f1_score =  0.619047619047619\n",
      "\n",
      " Experiment :  3\n",
      "\n",
      " weihts =  uniform \n",
      " p = 2 \n",
      " n_neighbors = 124 \n",
      " accuracy_score =  0.7399103139013453 \n",
      " recall_score =  0.5842696629213483 \n",
      " precision_score =  0.7123287671232876 \n",
      " f1_score =  0.6419753086419753\n",
      "\n",
      " Experiment :  4\n",
      "\n",
      " weihts =  distance \n",
      " p = 2 \n",
      " n_neighbors = 123 \n",
      " accuracy_score =  0.7130044843049327 \n",
      " recall_score =  0.5842696629213483 \n",
      " precision_score =  0.6582278481012658 \n",
      " f1_score =  0.619047619047619\n",
      "\n",
      " Experiment :  5\n",
      "\n",
      " weihts =  uniform \n",
      " p = 3 \n",
      " n_neighbors = 116 \n",
      " accuracy_score =  0.7354260089686099 \n",
      " recall_score =  0.5842696629213483 \n",
      " precision_score =  0.7027027027027027 \n",
      " f1_score =  0.6380368098159509\n",
      "\n",
      " Experiment :  6\n",
      "\n",
      " weihts =  distance \n",
      " p = 3 \n",
      " n_neighbors = 112 \n",
      " accuracy_score =  0.7040358744394619 \n",
      " recall_score =  0.5617977528089888 \n",
      " precision_score =  0.6493506493506493 \n",
      " f1_score =  0.6024096385542169\n"
     ]
    }
   ],
   "source": [
    "X_train,X_test,y_train,y_test=data_preprocess(titanic,used_colums,handle_missing_values=True)\n",
    "metrics_dict = evaluate(X_train,X_test,y_train,y_test,weights,p_ls,dict_keys)\n",
    "get_best_neighbor(metrics_dict)"
   ]
  },
  {
   "cell_type": "markdown",
   "id": "56f88d8f",
   "metadata": {},
   "source": [
    "## Evalate the proces of KNNImputer.\n",
    "\n",
    "Step 1: Train and test a model without using features with missing values.\n",
    "    \n",
    "Step 2: Train and test a model using features with missing values that have replaced with a KNNInputer model\n",
    "\n",
    "Stel 3:  Plot the F1-Score on both cases."
   ]
  },
  {
   "cell_type": "code",
   "execution_count": 13,
   "id": "2bddaed9",
   "metadata": {},
   "outputs": [
    {
     "data": {
      "image/png": "[encoded data removed]",
      "text/plain": [
       "<Figure size 640x480 with 1 Axes>"
      ]
     },
     "metadata": {},
     "output_type": "display_data"
    }
   ],
   "source": [
    "X_train,X_test,y_train,y_test=data_preprocess(titanic,used_colums,handle_missing_values=True)\n",
    "f1_handler = evaluate_missing_values_handler(X_train,X_test,y_train,y_test)\n",
    "X_train,X_test,y_train,y_test=data_preprocess(titanic,exlude_missing_values,handle_missing_values=False)\n",
    "f1_no_handler = evaluate_missing_values_handler(X_train,X_test,y_train,y_test)\n",
    "get_plot(f1_handler,f1_no_handler)"
   ]
  },
  {
   "cell_type": "code",
   "execution_count": null,
   "id": "a7f879c1",
   "metadata": {},
   "outputs": [],
   "source": []
  }
 ],
 "metadata": {
  "kernelspec": {
   "display_name": "full_ml",
   "language": "python",
   "name": "full_ml"
  },
  "language_info": {
   "codemirror_mode": {
    "name": "ipython",
    "version": 3
   },
   "file_extension": ".py",
   "mimetype": "text/x-python",
   "name": "python",
   "nbconvert_exporter": "python",
   "pygments_lexer": "ipython3",
   "version": "3.8.13"
  }
 },
 "nbformat": 4,
 "nbformat_minor": 5
}
