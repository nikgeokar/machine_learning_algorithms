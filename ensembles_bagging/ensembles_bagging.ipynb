{
 "cells": [
  {
   "cell_type": "markdown",
   "id": "ee964d9b",
   "metadata": {},
   "source": [
    "# MPL Classifier"
   ]
  },
  {
   "cell_type": "markdown",
   "id": "b3ad12a2",
   "metadata": {},
   "source": [
    "### Packages"
   ]
  },
  {
   "cell_type": "code",
   "execution_count": 1,
   "id": "88a26408",
   "metadata": {},
   "outputs": [],
   "source": [
    "import pandas as pd\n",
    "import numpy as np\n",
    "import matplotlib.pyplot as plt\n",
    "from sklearn import metrics, datasets\n",
    "from sklearn.model_selection import train_test_split\n",
    "from sklearn.preprocessing import StandardScaler\n",
    "from sklearn.ensemble import RandomForestClassifier\n",
    "from sklearn.ensemble import BaggingClassifier\n",
    "from sklearn.neural_network import MLPClassifier"
   ]
  },
  {
   "cell_type": "markdown",
   "id": "27fa0853",
   "metadata": {},
   "source": [
    "### Data Preprocessing"
   ]
  },
  {
   "cell_type": "markdown",
   "id": "1950f3cc",
   "metadata": {},
   "source": [
    "Step 1: Convert to Pandas dataset"
   ]
  },
  {
   "cell_type": "code",
   "execution_count": 2,
   "id": "a830e6d4",
   "metadata": {},
   "outputs": [],
   "source": [
    "def convert(breast_cancer):\n",
    "    data = np.c_[breast_cancer.data, breast_cancer.target]\n",
    "    columns = np.append(breast_cancer.feature_names, [\"target\"])\n",
    "    return pd.DataFrame(data, columns=columns)"
   ]
  },
  {
   "cell_type": "markdown",
   "id": "4197fa51",
   "metadata": {},
   "source": [
    "Step 2: Split X and y"
   ]
  },
  {
   "cell_type": "code",
   "execution_count": 3,
   "id": "4210e65b",
   "metadata": {},
   "outputs": [],
   "source": [
    "def splits_X_y(breast_cancer):\n",
    "    cancer_data = convert(breast_cancer)\n",
    "    X = cancer_data[cancer_data.columns[:-1]]\n",
    "    y = cancer_data.target\n",
    "    return X, y"
   ]
  },
  {
   "cell_type": "markdown",
   "id": "6b53a0fa",
   "metadata": {},
   "source": [
    "Step 3: Split Train Test"
   ]
  },
  {
   "cell_type": "code",
   "execution_count": 4,
   "id": "a28b4dc4",
   "metadata": {},
   "outputs": [],
   "source": [
    "def split_Test_Train(breast_cancer):\n",
    "    X, y = splits_X_y(breast_cancer)\n",
    "    return train_test_split(X, y, test_size=0.25, random_state=42)"
   ]
  },
  {
   "cell_type": "markdown",
   "id": "e28e9eac",
   "metadata": {},
   "source": [
    "Step 4: Apply Standardization"
   ]
  },
  {
   "cell_type": "code",
   "execution_count": 5,
   "id": "7536e17b",
   "metadata": {},
   "outputs": [],
   "source": [
    "def Scaller(X_train,X_test):\n",
    "    Standar_Scaller = StandardScaler()\n",
    "    scalled_train_data= Standar_Scaller.fit_transform(X_train)\n",
    "    scalled_test_data = Standar_Scaller.transform(X_test)\n",
    "    return scalled_train_data,scalled_test_data"
   ]
  },
  {
   "cell_type": "markdown",
   "id": "9b11990a",
   "metadata": {},
   "source": [
    "### MPL Classifier with bagging method"
   ]
  },
  {
   "cell_type": "code",
   "execution_count": 6,
   "id": "fe851f17",
   "metadata": {},
   "outputs": [],
   "source": [
    "def bagging_clf(X_train,X_test,y_train,y_test):\n",
    "    MLP = MLPClassifier(hidden_layer_sizes=[100,100,100], activation='relu',solver='lbfgs',\n",
    "                              tol=0.0001, max_iter=100)\n",
    "    bag = BaggingClassifier(base_estimator=MLP,\n",
    "                           n_estimators=100,\n",
    "                           random_state=42)\n",
    "    bag = bag.fit(X_train, y_train)\n",
    "    y_predicted = bag.predict(X_test)\n",
    "    acc = metrics.accuracy_score(y_test, y_predicted)\n",
    "    per = metrics.precision_score(y_test, y_predicted, average=\"macro\")\n",
    "    rec = metrics.recall_score(y_test, y_predicted, average=\"macro\")\n",
    "    f1 = metrics.f1_score(y_test, y_predicted, average=\"macro\")\n",
    "    print(\"\\nBagging Results:\")\n",
    "    print(\"Accuracy: %2f\" % acc)\n",
    "    print(\"Precision: %2f\"% per )\n",
    "    print(\"Recall: %2f\" % rec)\n",
    "    print(\"F1: %2f\" % f1)\n",
    "    return acc,per,rec,f1"
   ]
  },
  {
   "cell_type": "markdown",
   "id": "047e8db1",
   "metadata": {},
   "source": [
    "### Random Forest Classifier"
   ]
  },
  {
   "cell_type": "code",
   "execution_count": 7,
   "id": "8026f473",
   "metadata": {},
   "outputs": [],
   "source": [
    "def random_forest(X_train,X_test,y_train,y_test):\n",
    "    RandomForest = RandomForestClassifier(random_state=42,criterion='gini', n_estimators = 10)\n",
    "    RandomForest.fit(X_train, y_train)\n",
    "    y_predicted = RandomForest.predict(X_test)\n",
    "    acc = metrics.accuracy_score(y_test, y_predicted)\n",
    "    per = metrics.precision_score(y_test, y_predicted, average=\"macro\")\n",
    "    rec = metrics.recall_score(y_test, y_predicted, average=\"macro\")\n",
    "    f1 = metrics.f1_score(y_test, y_predicted, average=\"macro\")\n",
    "    print(\"\\nRandom Forest Results:\")\n",
    "    print(\"Accuracy: %2f\" % acc)\n",
    "    print(\"Precision: %2f\"% per )\n",
    "    print(\"Recall: %2f\" % rec)\n",
    "    print(\"F1: %2f\" % f1)\n",
    "    return acc,per,rec,f1"
   ]
  },
  {
   "cell_type": "markdown",
   "id": "39848d5e",
   "metadata": {},
   "source": [
    "### Bar - Plot"
   ]
  },
  {
   "cell_type": "code",
   "execution_count": 8,
   "id": "55cdcd21",
   "metadata": {},
   "outputs": [],
   "source": [
    "def bar_plot(accBag,perBag,recBag,f1Bag,accRF,perRF,recRf,f1RF):\n",
    "    labels = ['Accuracy', 'Precision', 'Recall', 'F1_Score']\n",
    "    forest = [accBag,perBag,recBag,f1Bag]\n",
    "    bagging = [accRF,perRF,recRf,f1RF]\n",
    "    x = np.arange(len(labels))\n",
    "    width = 0.35\n",
    "    fig, ax = plt.subplots()\n",
    "    rects1 = ax.bar(x - width/2, forest, width, label='Bagging')\n",
    "    rects2 = ax.bar(x + width/2, bagging, width, label='Random Forest')\n",
    "    ax.set_ylabel('Metrics')\n",
    "    ax.set_title('Random Forest vs Bagging Comparison')\n",
    "    ax.set_xticks(x)\n",
    "    ax.set_xticklabels(labels)\n",
    "    ax.legend()\n",
    "    plt.savefig(\"Bar_Plot.pdf\")\n",
    "    #autolabel(rects1)\n",
    "    #autolabel(rects2)\n",
    "    fig.tight_layout()   "
   ]
  },
  {
   "cell_type": "markdown",
   "id": "5596e6bc",
   "metadata": {},
   "source": [
    "### All Merge"
   ]
  },
  {
   "cell_type": "code",
   "execution_count": 9,
   "id": "61dbac10",
   "metadata": {},
   "outputs": [
    {
     "name": "stdout",
     "output_type": "stream",
     "text": [
      "\n",
      "Bagging Results:\n",
      "Accuracy: 0.986014\n",
      "Precision: 0.985123\n",
      "Recall: 0.985123\n",
      "F1: 0.985123\n",
      "\n",
      "Random Forest Results:\n",
      "Accuracy: 0.951049\n",
      "Precision: 0.942623\n",
      "Recall: 0.960674\n",
      "F1: 0.949097\n"
     ]
    },
    {
     "data": {
      "image/png": "[encoded data removed]",
      "text/plain": [
       "<Figure size 640x480 with 1 Axes>"
      ]
     },
     "metadata": {},
     "output_type": "display_data"
    }
   ],
   "source": [
    "breast_cancer = datasets.load_breast_cancer()\n",
    "X_train,X_test,y_train,y_test =  split_Test_Train(breast_cancer)\n",
    "X_train,X_test = Scaller(X_train,X_test)\n",
    "accBag,perBag,recBag,f1Bag = bagging_clf(X_train,X_test,y_train,y_test)\n",
    "accRF,perRF,recRf,f1RF = random_forest(X_train,X_test,y_train,y_test)\n",
    "bar_plot(accBag,perBag,recBag,f1Bag,accRF,perRF,recRf,f1RF)"
   ]
  }
 ],
 "metadata": {
  "kernelspec": {
   "display_name": "full_ml",
   "language": "python",
   "name": "full_ml"
  },
  "language_info": {
   "codemirror_mode": {
    "name": "ipython",
    "version": 3
   },
   "file_extension": ".py",
   "mimetype": "text/x-python",
   "name": "python",
   "nbconvert_exporter": "python",
   "pygments_lexer": "ipython3",
   "version": "3.8.13"
  }
 },
 "nbformat": 4,
 "nbformat_minor": 5
}
