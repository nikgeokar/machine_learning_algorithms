{
 "cells": [
  {
   "cell_type": "markdown",
   "id": "ee964d9b",
   "metadata": {},
   "source": [
    "# MPL Classifier"
   ]
  },
  {
   "cell_type": "markdown",
   "id": "b3ad12a2",
   "metadata": {},
   "source": [
    "### Packages"
   ]
  },
  {
   "cell_type": "code",
   "execution_count": 1,
   "id": "88a26408",
   "metadata": {},
   "outputs": [],
   "source": [
    "import pandas as pd\n",
    "import numpy as np\n",
    "from sklearn import metrics, datasets\n",
    "from sklearn.model_selection import train_test_split\n",
    "from sklearn.preprocessing import StandardScaler\n",
    "from sklearn.neural_network import MLPClassifier"
   ]
  },
  {
   "cell_type": "markdown",
   "id": "27fa0853",
   "metadata": {},
   "source": [
    "### Data Preprocessing"
   ]
  },
  {
   "cell_type": "markdown",
   "id": "1950f3cc",
   "metadata": {},
   "source": [
    "Step 1: Convert to Pandas dataset"
   ]
  },
  {
   "cell_type": "code",
   "execution_count": 2,
   "id": "a830e6d4",
   "metadata": {},
   "outputs": [],
   "source": [
    "def convert(breast_cancer):\n",
    "    data = np.c_[breast_cancer.data, breast_cancer.target]\n",
    "    columns = np.append(breast_cancer.feature_names, [\"target\"])\n",
    "    return pd.DataFrame(data, columns=columns)"
   ]
  },
  {
   "cell_type": "markdown",
   "id": "4197fa51",
   "metadata": {},
   "source": [
    "Step 2: Split X and y"
   ]
  },
  {
   "cell_type": "code",
   "execution_count": 3,
   "id": "4210e65b",
   "metadata": {},
   "outputs": [],
   "source": [
    "def splits_X_y(breast_cancer):\n",
    "    cancer_data = convert(breast_cancer)\n",
    "    X = cancer_data[cancer_data.columns[:-1]]\n",
    "    y = cancer_data.target\n",
    "    return X, y"
   ]
  },
  {
   "cell_type": "markdown",
   "id": "6b53a0fa",
   "metadata": {},
   "source": [
    "Step 3: Split Train Test"
   ]
  },
  {
   "cell_type": "code",
   "execution_count": 4,
   "id": "a28b4dc4",
   "metadata": {},
   "outputs": [],
   "source": [
    "def split_Test_Train(breast_cancer):\n",
    "    X, y = splits_X_y(breast_cancer)\n",
    "    return train_test_split(X, y, test_size=0.25, random_state=42)"
   ]
  },
  {
   "cell_type": "markdown",
   "id": "e28e9eac",
   "metadata": {},
   "source": [
    "Step 4: Apply Standardization"
   ]
  },
  {
   "cell_type": "code",
   "execution_count": 5,
   "id": "7536e17b",
   "metadata": {},
   "outputs": [],
   "source": [
    "def Scaller(X_train,X_test):\n",
    "    Standar_Scaller = StandardScaler()\n",
    "    scalled_train_data= Standar_Scaller.fit_transform(X_train)\n",
    "    scalled_test_data = Standar_Scaller.transform(X_test)\n",
    "    return scalled_train_data,scalled_test_data"
   ]
  },
  {
   "cell_type": "markdown",
   "id": "a157da2e",
   "metadata": {},
   "source": [
    "### Calculate Metrics"
   ]
  },
  {
   "cell_type": "code",
   "execution_count": 6,
   "id": "340b96a6",
   "metadata": {},
   "outputs": [],
   "source": [
    "def evaluation_tree(X_train,X_test,y_train,y_test,parameters):\n",
    "    for p in parameters:\n",
    "        print ('\\nHidel_Layers={}, Act_Function={}, Solver={}, Tolerance ={}, Maximum_Iterations={}'.format(p[0],p[1],p[2],p[3],p[4]) )\n",
    "        MLP_Classifier = MLPClassifier(hidden_layer_sizes=p[0], activation=p[1],solver=p[2],\n",
    "                          tol=p[3], max_iter=p[4])\n",
    "        MLP_Classifier.fit(X_train, y_train)\n",
    "        y_predicted = MLP_Classifier.predict(X_test)\n",
    "        print(\"Accuracy: %2f\" % metrics.accuracy_score(y_test, y_predicted))\n",
    "        print(\"Precision: %2f\" % metrics.precision_score(y_test, y_predicted, average=\"macro\"))\n",
    "        print(\"Recall: %2f\" % metrics.recall_score(y_test, y_predicted, average=\"macro\"))\n",
    "        print(\"F1: %2f\" % metrics.f1_score(y_test, y_predicted, average=\"macro\"))"
   ]
  },
  {
   "cell_type": "markdown",
   "id": "f4bdbee3",
   "metadata": {},
   "source": [
    "### Inputs"
   ]
  },
  {
   "cell_type": "code",
   "execution_count": 7,
   "id": "f7f66216",
   "metadata": {},
   "outputs": [],
   "source": [
    "parameters = [[[10],'relu','sgd',0.0001,100],[[20],'tanh','sgd',0.0001,100],\n",
    "              [[20],'tanh','adam',0.00001,100],[[50,50,50],'relu','adam',0.00001,100],\n",
    "            [[50],'tanh','lbfgs',0.00001,100],[[100,100,100],'relu','lbfgs',0.00001,100]]"
   ]
  },
  {
   "cell_type": "markdown",
   "id": "5596e6bc",
   "metadata": {},
   "source": [
    "### All Merge"
   ]
  },
  {
   "cell_type": "code",
   "execution_count": 8,
   "id": "61dbac10",
   "metadata": {},
   "outputs": [
    {
     "name": "stdout",
     "output_type": "stream",
     "text": [
      "\n",
      "Hidel_Layers=[10], Act_Function=relu, Solver=sgd, Tolerance =0.0001, Maximum_Iterations=100\n",
      "Accuracy: 0.937063\n",
      "Precision: 0.934486\n",
      "Recall: 0.931232\n",
      "F1: 0.932804\n",
      "\n",
      "Hidel_Layers=[20], Act_Function=tanh, Solver=sgd, Tolerance =0.0001, Maximum_Iterations=100\n",
      "Accuracy: 0.965035\n",
      "Precision: 0.959098\n",
      "Recall: 0.968269\n",
      "F1: 0.963192\n",
      "\n",
      "Hidel_Layers=[20], Act_Function=tanh, Solver=adam, Tolerance =1e-05, Maximum_Iterations=100\n",
      "Accuracy: 0.993007\n",
      "Precision: 0.994444\n",
      "Recall: 0.990741\n",
      "F1: 0.992534\n",
      "\n",
      "Hidel_Layers=[50, 50, 50], Act_Function=relu, Solver=adam, Tolerance =1e-05, Maximum_Iterations=100\n"
     ]
    },
    {
     "name": "stderr",
     "output_type": "stream",
     "text": [
      "/opt/homebrew/Caskroom/miniforge/base/envs/env_tf2/lib/python3.8/site-packages/sklearn/neural_network/_multilayer_perceptron.py:702: ConvergenceWarning: Stochastic Optimizer: Maximum iterations (100) reached and the optimization hasn't converged yet.\n",
      "  warnings.warn(\n",
      "/opt/homebrew/Caskroom/miniforge/base/envs/env_tf2/lib/python3.8/site-packages/sklearn/neural_network/_multilayer_perceptron.py:702: ConvergenceWarning: Stochastic Optimizer: Maximum iterations (100) reached and the optimization hasn't converged yet.\n",
      "  warnings.warn(\n",
      "/opt/homebrew/Caskroom/miniforge/base/envs/env_tf2/lib/python3.8/site-packages/sklearn/neural_network/_multilayer_perceptron.py:702: ConvergenceWarning: Stochastic Optimizer: Maximum iterations (100) reached and the optimization hasn't converged yet.\n",
      "  warnings.warn(\n",
      "/opt/homebrew/Caskroom/miniforge/base/envs/env_tf2/lib/python3.8/site-packages/sklearn/neural_network/_multilayer_perceptron.py:702: ConvergenceWarning: Stochastic Optimizer: Maximum iterations (100) reached and the optimization hasn't converged yet.\n",
      "  warnings.warn(\n"
     ]
    },
    {
     "name": "stdout",
     "output_type": "stream",
     "text": [
      "Accuracy: 0.972028\n",
      "Precision: 0.970246\n",
      "Recall: 0.970246\n",
      "F1: 0.970246\n",
      "\n",
      "Hidel_Layers=[50], Act_Function=tanh, Solver=lbfgs, Tolerance =1e-05, Maximum_Iterations=100\n",
      "Accuracy: 0.951049\n",
      "Precision: 0.943200\n",
      "Recall: 0.957033\n",
      "F1: 0.948795\n",
      "\n",
      "Hidel_Layers=[100, 100, 100], Act_Function=relu, Solver=lbfgs, Tolerance =1e-05, Maximum_Iterations=100\n",
      "Accuracy: 0.965035\n",
      "Precision: 0.959098\n",
      "Recall: 0.968269\n",
      "F1: 0.963192\n"
     ]
    }
   ],
   "source": [
    "breast_cancer = datasets.load_breast_cancer()\n",
    "X_train,X_test,y_train,y_test =  split_Test_Train(breast_cancer)\n",
    "X_train,X_test = Scaller(X_train,X_test)\n",
    "evaluation_tree(X_train,X_test,y_train,y_test,parameters)"
   ]
  },
  {
   "cell_type": "code",
   "execution_count": null,
   "id": "ba5d9582",
   "metadata": {},
   "outputs": [],
   "source": []
  },
  {
   "cell_type": "code",
   "execution_count": null,
   "id": "3d535959",
   "metadata": {},
   "outputs": [],
   "source": []
  }
 ],
 "metadata": {
  "kernelspec": {
   "display_name": "tf2.7",
   "language": "python",
   "name": "tf2.7"
  },
  "language_info": {
   "codemirror_mode": {
    "name": "ipython",
    "version": 3
   },
   "file_extension": ".py",
   "mimetype": "text/x-python",
   "name": "python",
   "nbconvert_exporter": "python",
   "pygments_lexer": "ipython3",
   "version": "3.8.13"
  }
 },
 "nbformat": 4,
 "nbformat_minor": 5
}
